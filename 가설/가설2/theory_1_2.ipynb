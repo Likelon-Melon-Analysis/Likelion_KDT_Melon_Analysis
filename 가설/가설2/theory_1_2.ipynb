{
 "cells": [
  {
   "cell_type": "markdown",
   "id": "5c410c32",
   "metadata": {},
   "source": [
    "#### 2018.01 ~ 2021.06 모든 데이터 불러와서 가공"
   ]
  },
  {
   "cell_type": "code",
   "execution_count": 2,
   "id": "34f6062a",
   "metadata": {},
   "outputs": [
    {
     "data": {
      "text/html": [
       "<div>\n",
       "<style scoped>\n",
       "    .dataframe tbody tr th:only-of-type {\n",
       "        vertical-align: middle;\n",
       "    }\n",
       "\n",
       "    .dataframe tbody tr th {\n",
       "        vertical-align: top;\n",
       "    }\n",
       "\n",
       "    .dataframe thead th {\n",
       "        text-align: right;\n",
       "    }\n",
       "</style>\n",
       "<table border=\"1\" class=\"dataframe\">\n",
       "  <thead>\n",
       "    <tr style=\"text-align: right;\">\n",
       "      <th></th>\n",
       "      <th>제목</th>\n",
       "      <th>가수</th>\n",
       "      <th>앨범</th>\n",
       "      <th>발매일</th>\n",
       "      <th>장르</th>\n",
       "      <th>Year</th>\n",
       "      <th>Month</th>\n",
       "    </tr>\n",
       "  </thead>\n",
       "  <tbody>\n",
       "    <tr>\n",
       "      <th>0</th>\n",
       "      <td>다시 여기 바닷가</td>\n",
       "      <td>싹쓰리 (유두래곤, 린다G, 비룡)</td>\n",
       "      <td>다시 여기 바닷가</td>\n",
       "      <td>2020.07.18</td>\n",
       "      <td>댄스</td>\n",
       "      <td>2020</td>\n",
       "      <td>07</td>\n",
       "    </tr>\n",
       "    <tr>\n",
       "      <th>1</th>\n",
       "      <td>마리아 (Maria)</td>\n",
       "      <td>화사 (Hwa Sa)</td>\n",
       "      <td>María</td>\n",
       "      <td>2020.06.29</td>\n",
       "      <td>댄스</td>\n",
       "      <td>2020</td>\n",
       "      <td>06</td>\n",
       "    </tr>\n",
       "    <tr>\n",
       "      <th>2</th>\n",
       "      <td>How You Like That</td>\n",
       "      <td>BLACKPINK</td>\n",
       "      <td>How You Like That</td>\n",
       "      <td>2020.06.26</td>\n",
       "      <td>댄스</td>\n",
       "      <td>2020</td>\n",
       "      <td>06</td>\n",
       "    </tr>\n",
       "    <tr>\n",
       "      <th>3</th>\n",
       "      <td>그 여름을 틀어줘</td>\n",
       "      <td>싹쓰리 (유두래곤, 린다G, 비룡)</td>\n",
       "      <td>그 여름을 틀어줘</td>\n",
       "      <td>2020.07.25</td>\n",
       "      <td>댄스</td>\n",
       "      <td>2020</td>\n",
       "      <td>07</td>\n",
       "    </tr>\n",
       "    <tr>\n",
       "      <th>4</th>\n",
       "      <td>Summer Hate (Feat. 비)</td>\n",
       "      <td>지코 (ZICO)</td>\n",
       "      <td>RANDOM BOX</td>\n",
       "      <td>2020.07.01</td>\n",
       "      <td>랩/힙합</td>\n",
       "      <td>2020</td>\n",
       "      <td>07</td>\n",
       "    </tr>\n",
       "    <tr>\n",
       "      <th>...</th>\n",
       "      <td>...</td>\n",
       "      <td>...</td>\n",
       "      <td>...</td>\n",
       "      <td>...</td>\n",
       "      <td>...</td>\n",
       "      <td>...</td>\n",
       "      <td>...</td>\n",
       "    </tr>\n",
       "    <tr>\n",
       "      <th>2095</th>\n",
       "      <td>답장</td>\n",
       "      <td>김동률</td>\n",
       "      <td>답장</td>\n",
       "      <td>2018.01.11</td>\n",
       "      <td>발라드</td>\n",
       "      <td>2018</td>\n",
       "      <td>01</td>\n",
       "    </tr>\n",
       "    <tr>\n",
       "      <th>2096</th>\n",
       "      <td>There's Nothing Holdin' Me Back</td>\n",
       "      <td>Shawn Mendes</td>\n",
       "      <td>Illuminate (Deluxe)</td>\n",
       "      <td>2017.04.21</td>\n",
       "      <td>POP</td>\n",
       "      <td>2017</td>\n",
       "      <td>04</td>\n",
       "    </tr>\n",
       "    <tr>\n",
       "      <th>2097</th>\n",
       "      <td>노력</td>\n",
       "      <td>박원</td>\n",
       "      <td>1/24</td>\n",
       "      <td>2016.11.17</td>\n",
       "      <td>발라드</td>\n",
       "      <td>2016</td>\n",
       "      <td>11</td>\n",
       "    </tr>\n",
       "    <tr>\n",
       "      <th>2098</th>\n",
       "      <td>그때의 나, 그때의 우리</td>\n",
       "      <td>어반자카파</td>\n",
       "      <td>그때의 나, 그때의 우리</td>\n",
       "      <td>2017.11.08</td>\n",
       "      <td>R&amp;B/Soul</td>\n",
       "      <td>2017</td>\n",
       "      <td>11</td>\n",
       "    </tr>\n",
       "    <tr>\n",
       "      <th>2099</th>\n",
       "      <td>바보야</td>\n",
       "      <td>허각</td>\n",
       "      <td>바보야</td>\n",
       "      <td>2017.11.27</td>\n",
       "      <td>발라드</td>\n",
       "      <td>2017</td>\n",
       "      <td>11</td>\n",
       "    </tr>\n",
       "  </tbody>\n",
       "</table>\n",
       "<p>2100 rows × 7 columns</p>\n",
       "</div>"
      ],
      "text/plain": [
       "                                   제목                   가수  \\\n",
       "0                           다시 여기 바닷가  싹쓰리 (유두래곤, 린다G, 비룡)   \n",
       "1                         마리아 (Maria)          화사 (Hwa Sa)   \n",
       "2                   How You Like That            BLACKPINK   \n",
       "3                           그 여름을 틀어줘  싹쓰리 (유두래곤, 린다G, 비룡)   \n",
       "4               Summer Hate (Feat. 비)            지코 (ZICO)   \n",
       "...                               ...                  ...   \n",
       "2095                               답장                  김동률   \n",
       "2096  There's Nothing Holdin' Me Back         Shawn Mendes   \n",
       "2097                               노력                   박원   \n",
       "2098                    그때의 나, 그때의 우리                어반자카파   \n",
       "2099                              바보야                   허각   \n",
       "\n",
       "                       앨범         발매일        장르  Year Month  \n",
       "0               다시 여기 바닷가  2020.07.18        댄스  2020    07  \n",
       "1                   María  2020.06.29        댄스  2020    06  \n",
       "2       How You Like That  2020.06.26        댄스  2020    06  \n",
       "3               그 여름을 틀어줘  2020.07.25        댄스  2020    07  \n",
       "4              RANDOM BOX  2020.07.01      랩/힙합  2020    07  \n",
       "...                   ...         ...       ...   ...   ...  \n",
       "2095                   답장  2018.01.11       발라드  2018    01  \n",
       "2096  Illuminate (Deluxe)  2017.04.21       POP  2017    04  \n",
       "2097                 1/24  2016.11.17       발라드  2016    11  \n",
       "2098        그때의 나, 그때의 우리  2017.11.08  R&B/Soul  2017    11  \n",
       "2099                  바보야  2017.11.27       발라드  2017    11  \n",
       "\n",
       "[2100 rows x 7 columns]"
      ]
     },
     "execution_count": 2,
     "metadata": {},
     "output_type": "execute_result"
    }
   ],
   "source": [
    "import pandas as pd\n",
    "\n",
    "all_df = pd.read_excel(\"/Users/jeonmyeong-un/Desktop/KDT LIKELION/KDT_Project/data/melon_all.xlsx\")\n",
    "all_df = all_df.drop('Unnamed: 0', axis=1)\n",
    "\n",
    "year = []\n",
    "month = []\n",
    "for t in all_df['발매일']:\n",
    "    year.append(t[:4])\n",
    "    month.append(t[5:-3])\n",
    "all_df['Year'] = year\n",
    "all_df['Month'] = month\n",
    "\n",
    "all_df"
   ]
  },
  {
   "cell_type": "markdown",
   "id": "783d2c67",
   "metadata": {},
   "source": [
    "#### all_df['Season'] : {'봄':1, \"여름\":2, \"가을\":3, \"겨울\":4}"
   ]
  },
  {
   "cell_type": "code",
   "execution_count": 3,
   "id": "9199b338",
   "metadata": {},
   "outputs": [],
   "source": [
    "all_df.loc[(all_df['Month'] == '03'), 'Season'] = 1\n",
    "all_df.loc[(all_df['Month'] == '04'), 'Season'] = 1\n",
    "all_df.loc[(all_df['Month'] == '05'), 'Season'] = 1\n",
    "all_df.loc[(all_df['Month'] == '06'), 'Season'] = 2\n",
    "all_df.loc[(all_df['Month'] == '07'), 'Season'] = 2\n",
    "all_df.loc[(all_df['Month'] == '08'), 'Season'] = 2\n",
    "all_df.loc[(all_df['Month'] == '09'), 'Season'] = 3\n",
    "all_df.loc[(all_df['Month'] == '10'), 'Season'] = 3\n",
    "all_df.loc[(all_df['Month'] == '11'), 'Season'] = 3\n",
    "all_df.loc[(all_df['Month'] == '12'), 'Season'] = 4\n",
    "all_df.loc[(all_df['Month'] == '01'), 'Season'] = 4\n",
    "all_df.loc[(all_df['Month'] == '02'), 'Season'] = 4"
   ]
  },
  {
   "cell_type": "code",
   "execution_count": 4,
   "id": "632e96b4",
   "metadata": {},
   "outputs": [
    {
     "name": "stdout",
     "output_type": "stream",
     "text": [
      "<class 'pandas.core.frame.DataFrame'>\n",
      "RangeIndex: 2100 entries, 0 to 2099\n",
      "Data columns (total 8 columns):\n",
      " #   Column  Non-Null Count  Dtype  \n",
      "---  ------  --------------  -----  \n",
      " 0   제목      2100 non-null   object \n",
      " 1   가수      2100 non-null   object \n",
      " 2   앨범      2100 non-null   object \n",
      " 3   발매일     2100 non-null   object \n",
      " 4   장르      2100 non-null   object \n",
      " 5   Year    2100 non-null   object \n",
      " 6   Month   2100 non-null   object \n",
      " 7   Season  2100 non-null   float64\n",
      "dtypes: float64(1), object(7)\n",
      "memory usage: 131.4+ KB\n"
     ]
    }
   ],
   "source": [
    "all_df.info()"
   ]
  },
  {
   "cell_type": "code",
   "execution_count": 6,
   "id": "1b06678a",
   "metadata": {},
   "outputs": [
    {
     "data": {
      "text/html": [
       "        <script type=\"text/javascript\">\n",
       "        window.PlotlyConfig = {MathJaxConfig: 'local'};\n",
       "        if (window.MathJax) {MathJax.Hub.Config({SVG: {font: \"STIX-Web\"}});}\n",
       "        if (typeof require !== 'undefined') {\n",
       "        require.undef(\"plotly\");\n",
       "        requirejs.config({\n",
       "            paths: {\n",
       "                'plotly': ['https://cdn.plot.ly/plotly-2.2.0.min']\n",
       "            }\n",
       "        });\n",
       "        require(['plotly'], function(Plotly) {\n",
       "            window._Plotly = Plotly;\n",
       "        });\n",
       "        }\n",
       "        </script>\n",
       "        "
      ]
     },
     "metadata": {},
     "output_type": "display_data"
    },
    {
     "data": {
      "text/html": [
       "        <script type=\"text/javascript\">\n",
       "        window.PlotlyConfig = {MathJaxConfig: 'local'};\n",
       "        if (window.MathJax) {MathJax.Hub.Config({SVG: {font: \"STIX-Web\"}});}\n",
       "        if (typeof require !== 'undefined') {\n",
       "        require.undef(\"plotly\");\n",
       "        requirejs.config({\n",
       "            paths: {\n",
       "                'plotly': ['https://cdn.plot.ly/plotly-2.2.0.min']\n",
       "            }\n",
       "        });\n",
       "        require(['plotly'], function(Plotly) {\n",
       "            window._Plotly = Plotly;\n",
       "        });\n",
       "        }\n",
       "        </script>\n",
       "        "
      ]
     },
     "metadata": {},
     "output_type": "display_data"
    },
    {
     "data": {
      "application/vnd.plotly.v1+json": {
       "config": {
        "plotlyServerURL": "https://plotly.com"
       },
       "data": [
        {
         "domain": {
          "x": [
           0,
           0.45
          ],
          "y": [
           0.575,
           1
          ]
         },
         "labels": [
          "댄스",
          "발라드",
          "랩/힙합",
          "발라드, 국내드라마",
          "R&B/Soul",
          "POP",
          "록/메탈",
          "인디음악, 록/메탈",
          "랩/힙합, 인디음악",
          "발라드, 인디음악",
          "성인가요",
          "인디음악, 포크/블루스",
          "포크/블루스"
         ],
         "name": "봄에 대한 선호되는 장르",
         "type": "pie",
         "values": [
          143,
          91,
          89,
          74,
          37,
          34,
          20,
          14,
          14,
          10,
          4,
          4,
          2
         ]
        },
        {
         "domain": {
          "x": [
           0.55,
           1
          ],
          "y": [
           0.575,
           1
          ]
         },
         "labels": [
          "댄스",
          "발라드",
          "랩/힙합",
          "POP",
          "R&B/Soul",
          "발라드, 인디음악",
          "록/메탈, 국내드라마",
          "R&B/Soul, 인디음악",
          "인디음악, 일렉트로니카",
          "발라드, 국내드라마",
          "인디음악, 포크/블루스",
          "랩/힙합, 인디음악"
         ],
         "name": "여름에 대한 선호되는 장르",
         "type": "pie",
         "values": [
          183,
          71,
          61,
          42,
          39,
          30,
          18,
          16,
          12,
          9,
          4,
          1
         ]
        },
        {
         "domain": {
          "x": [
           0,
           0.45
          ],
          "y": [
           0,
           0.425
          ]
         },
         "labels": [
          "발라드",
          "랩/힙합",
          "댄스",
          "POP",
          "R&B/Soul",
          "록/메탈",
          "발라드, 국내드라마",
          "인디음악, 포크/블루스",
          "발라드, 인디음악",
          "인디음악, 록/메탈",
          "POP, 애니메이션/웹툰, 키즈, 만화"
         ],
         "name": "가을에 대한 선호되는 장르",
         "type": "pie",
         "values": [
          290,
          100,
          75,
          48,
          44,
          24,
          22,
          19,
          16,
          13,
          2
         ]
        },
        {
         "domain": {
          "x": [
           0.55,
           1
          ],
          "y": [
           0,
           0.425
          ]
         },
         "hoverinfo": "label+percent+name",
         "labels": [
          "랩/힙합",
          "발라드",
          "댄스",
          "발라드, 국내드라마",
          "R&B/Soul",
          "POP",
          "록/메탈, 국내드라마",
          "인디음악, 포크/블루스",
          "랩/힙합, 인디음악",
          "R&B/Soul, 인디음악",
          "록/메탈"
         ],
         "name": "겨울에 대한 선호되는 장르",
         "type": "pie",
         "values": [
          108,
          105,
          80,
          40,
          38,
          20,
          15,
          8,
          6,
          3,
          2
         ]
        }
       ],
       "layout": {
        "template": {
         "data": {
          "bar": [
           {
            "error_x": {
             "color": "#2a3f5f"
            },
            "error_y": {
             "color": "#2a3f5f"
            },
            "marker": {
             "line": {
              "color": "#E5ECF6",
              "width": 0.5
             },
             "pattern": {
              "fillmode": "overlay",
              "size": 10,
              "solidity": 0.2
             }
            },
            "type": "bar"
           }
          ],
          "barpolar": [
           {
            "marker": {
             "line": {
              "color": "#E5ECF6",
              "width": 0.5
             },
             "pattern": {
              "fillmode": "overlay",
              "size": 10,
              "solidity": 0.2
             }
            },
            "type": "barpolar"
           }
          ],
          "carpet": [
           {
            "aaxis": {
             "endlinecolor": "#2a3f5f",
             "gridcolor": "white",
             "linecolor": "white",
             "minorgridcolor": "white",
             "startlinecolor": "#2a3f5f"
            },
            "baxis": {
             "endlinecolor": "#2a3f5f",
             "gridcolor": "white",
             "linecolor": "white",
             "minorgridcolor": "white",
             "startlinecolor": "#2a3f5f"
            },
            "type": "carpet"
           }
          ],
          "choropleth": [
           {
            "colorbar": {
             "outlinewidth": 0,
             "ticks": ""
            },
            "type": "choropleth"
           }
          ],
          "contour": [
           {
            "colorbar": {
             "outlinewidth": 0,
             "ticks": ""
            },
            "colorscale": [
             [
              0,
              "#0d0887"
             ],
             [
              0.1111111111111111,
              "#46039f"
             ],
             [
              0.2222222222222222,
              "#7201a8"
             ],
             [
              0.3333333333333333,
              "#9c179e"
             ],
             [
              0.4444444444444444,
              "#bd3786"
             ],
             [
              0.5555555555555556,
              "#d8576b"
             ],
             [
              0.6666666666666666,
              "#ed7953"
             ],
             [
              0.7777777777777778,
              "#fb9f3a"
             ],
             [
              0.8888888888888888,
              "#fdca26"
             ],
             [
              1,
              "#f0f921"
             ]
            ],
            "type": "contour"
           }
          ],
          "contourcarpet": [
           {
            "colorbar": {
             "outlinewidth": 0,
             "ticks": ""
            },
            "type": "contourcarpet"
           }
          ],
          "heatmap": [
           {
            "colorbar": {
             "outlinewidth": 0,
             "ticks": ""
            },
            "colorscale": [
             [
              0,
              "#0d0887"
             ],
             [
              0.1111111111111111,
              "#46039f"
             ],
             [
              0.2222222222222222,
              "#7201a8"
             ],
             [
              0.3333333333333333,
              "#9c179e"
             ],
             [
              0.4444444444444444,
              "#bd3786"
             ],
             [
              0.5555555555555556,
              "#d8576b"
             ],
             [
              0.6666666666666666,
              "#ed7953"
             ],
             [
              0.7777777777777778,
              "#fb9f3a"
             ],
             [
              0.8888888888888888,
              "#fdca26"
             ],
             [
              1,
              "#f0f921"
             ]
            ],
            "type": "heatmap"
           }
          ],
          "heatmapgl": [
           {
            "colorbar": {
             "outlinewidth": 0,
             "ticks": ""
            },
            "colorscale": [
             [
              0,
              "#0d0887"
             ],
             [
              0.1111111111111111,
              "#46039f"
             ],
             [
              0.2222222222222222,
              "#7201a8"
             ],
             [
              0.3333333333333333,
              "#9c179e"
             ],
             [
              0.4444444444444444,
              "#bd3786"
             ],
             [
              0.5555555555555556,
              "#d8576b"
             ],
             [
              0.6666666666666666,
              "#ed7953"
             ],
             [
              0.7777777777777778,
              "#fb9f3a"
             ],
             [
              0.8888888888888888,
              "#fdca26"
             ],
             [
              1,
              "#f0f921"
             ]
            ],
            "type": "heatmapgl"
           }
          ],
          "histogram": [
           {
            "marker": {
             "pattern": {
              "fillmode": "overlay",
              "size": 10,
              "solidity": 0.2
             }
            },
            "type": "histogram"
           }
          ],
          "histogram2d": [
           {
            "colorbar": {
             "outlinewidth": 0,
             "ticks": ""
            },
            "colorscale": [
             [
              0,
              "#0d0887"
             ],
             [
              0.1111111111111111,
              "#46039f"
             ],
             [
              0.2222222222222222,
              "#7201a8"
             ],
             [
              0.3333333333333333,
              "#9c179e"
             ],
             [
              0.4444444444444444,
              "#bd3786"
             ],
             [
              0.5555555555555556,
              "#d8576b"
             ],
             [
              0.6666666666666666,
              "#ed7953"
             ],
             [
              0.7777777777777778,
              "#fb9f3a"
             ],
             [
              0.8888888888888888,
              "#fdca26"
             ],
             [
              1,
              "#f0f921"
             ]
            ],
            "type": "histogram2d"
           }
          ],
          "histogram2dcontour": [
           {
            "colorbar": {
             "outlinewidth": 0,
             "ticks": ""
            },
            "colorscale": [
             [
              0,
              "#0d0887"
             ],
             [
              0.1111111111111111,
              "#46039f"
             ],
             [
              0.2222222222222222,
              "#7201a8"
             ],
             [
              0.3333333333333333,
              "#9c179e"
             ],
             [
              0.4444444444444444,
              "#bd3786"
             ],
             [
              0.5555555555555556,
              "#d8576b"
             ],
             [
              0.6666666666666666,
              "#ed7953"
             ],
             [
              0.7777777777777778,
              "#fb9f3a"
             ],
             [
              0.8888888888888888,
              "#fdca26"
             ],
             [
              1,
              "#f0f921"
             ]
            ],
            "type": "histogram2dcontour"
           }
          ],
          "mesh3d": [
           {
            "colorbar": {
             "outlinewidth": 0,
             "ticks": ""
            },
            "type": "mesh3d"
           }
          ],
          "parcoords": [
           {
            "line": {
             "colorbar": {
              "outlinewidth": 0,
              "ticks": ""
             }
            },
            "type": "parcoords"
           }
          ],
          "pie": [
           {
            "automargin": true,
            "type": "pie"
           }
          ],
          "scatter": [
           {
            "marker": {
             "colorbar": {
              "outlinewidth": 0,
              "ticks": ""
             }
            },
            "type": "scatter"
           }
          ],
          "scatter3d": [
           {
            "line": {
             "colorbar": {
              "outlinewidth": 0,
              "ticks": ""
             }
            },
            "marker": {
             "colorbar": {
              "outlinewidth": 0,
              "ticks": ""
             }
            },
            "type": "scatter3d"
           }
          ],
          "scattercarpet": [
           {
            "marker": {
             "colorbar": {
              "outlinewidth": 0,
              "ticks": ""
             }
            },
            "type": "scattercarpet"
           }
          ],
          "scattergeo": [
           {
            "marker": {
             "colorbar": {
              "outlinewidth": 0,
              "ticks": ""
             }
            },
            "type": "scattergeo"
           }
          ],
          "scattergl": [
           {
            "marker": {
             "colorbar": {
              "outlinewidth": 0,
              "ticks": ""
             }
            },
            "type": "scattergl"
           }
          ],
          "scattermapbox": [
           {
            "marker": {
             "colorbar": {
              "outlinewidth": 0,
              "ticks": ""
             }
            },
            "type": "scattermapbox"
           }
          ],
          "scatterpolar": [
           {
            "marker": {
             "colorbar": {
              "outlinewidth": 0,
              "ticks": ""
             }
            },
            "type": "scatterpolar"
           }
          ],
          "scatterpolargl": [
           {
            "marker": {
             "colorbar": {
              "outlinewidth": 0,
              "ticks": ""
             }
            },
            "type": "scatterpolargl"
           }
          ],
          "scatterternary": [
           {
            "marker": {
             "colorbar": {
              "outlinewidth": 0,
              "ticks": ""
             }
            },
            "type": "scatterternary"
           }
          ],
          "surface": [
           {
            "colorbar": {
             "outlinewidth": 0,
             "ticks": ""
            },
            "colorscale": [
             [
              0,
              "#0d0887"
             ],
             [
              0.1111111111111111,
              "#46039f"
             ],
             [
              0.2222222222222222,
              "#7201a8"
             ],
             [
              0.3333333333333333,
              "#9c179e"
             ],
             [
              0.4444444444444444,
              "#bd3786"
             ],
             [
              0.5555555555555556,
              "#d8576b"
             ],
             [
              0.6666666666666666,
              "#ed7953"
             ],
             [
              0.7777777777777778,
              "#fb9f3a"
             ],
             [
              0.8888888888888888,
              "#fdca26"
             ],
             [
              1,
              "#f0f921"
             ]
            ],
            "type": "surface"
           }
          ],
          "table": [
           {
            "cells": {
             "fill": {
              "color": "#EBF0F8"
             },
             "line": {
              "color": "white"
             }
            },
            "header": {
             "fill": {
              "color": "#C8D4E3"
             },
             "line": {
              "color": "white"
             }
            },
            "type": "table"
           }
          ]
         },
         "layout": {
          "annotationdefaults": {
           "arrowcolor": "#2a3f5f",
           "arrowhead": 0,
           "arrowwidth": 1
          },
          "autotypenumbers": "strict",
          "coloraxis": {
           "colorbar": {
            "outlinewidth": 0,
            "ticks": ""
           }
          },
          "colorscale": {
           "diverging": [
            [
             0,
             "#8e0152"
            ],
            [
             0.1,
             "#c51b7d"
            ],
            [
             0.2,
             "#de77ae"
            ],
            [
             0.3,
             "#f1b6da"
            ],
            [
             0.4,
             "#fde0ef"
            ],
            [
             0.5,
             "#f7f7f7"
            ],
            [
             0.6,
             "#e6f5d0"
            ],
            [
             0.7,
             "#b8e186"
            ],
            [
             0.8,
             "#7fbc41"
            ],
            [
             0.9,
             "#4d9221"
            ],
            [
             1,
             "#276419"
            ]
           ],
           "sequential": [
            [
             0,
             "#0d0887"
            ],
            [
             0.1111111111111111,
             "#46039f"
            ],
            [
             0.2222222222222222,
             "#7201a8"
            ],
            [
             0.3333333333333333,
             "#9c179e"
            ],
            [
             0.4444444444444444,
             "#bd3786"
            ],
            [
             0.5555555555555556,
             "#d8576b"
            ],
            [
             0.6666666666666666,
             "#ed7953"
            ],
            [
             0.7777777777777778,
             "#fb9f3a"
            ],
            [
             0.8888888888888888,
             "#fdca26"
            ],
            [
             1,
             "#f0f921"
            ]
           ],
           "sequentialminus": [
            [
             0,
             "#0d0887"
            ],
            [
             0.1111111111111111,
             "#46039f"
            ],
            [
             0.2222222222222222,
             "#7201a8"
            ],
            [
             0.3333333333333333,
             "#9c179e"
            ],
            [
             0.4444444444444444,
             "#bd3786"
            ],
            [
             0.5555555555555556,
             "#d8576b"
            ],
            [
             0.6666666666666666,
             "#ed7953"
            ],
            [
             0.7777777777777778,
             "#fb9f3a"
            ],
            [
             0.8888888888888888,
             "#fdca26"
            ],
            [
             1,
             "#f0f921"
            ]
           ]
          },
          "colorway": [
           "#636efa",
           "#EF553B",
           "#00cc96",
           "#ab63fa",
           "#FFA15A",
           "#19d3f3",
           "#FF6692",
           "#B6E880",
           "#FF97FF",
           "#FECB52"
          ],
          "font": {
           "color": "#2a3f5f"
          },
          "geo": {
           "bgcolor": "white",
           "lakecolor": "white",
           "landcolor": "#E5ECF6",
           "showlakes": true,
           "showland": true,
           "subunitcolor": "white"
          },
          "hoverlabel": {
           "align": "left"
          },
          "hovermode": "closest",
          "mapbox": {
           "style": "light"
          },
          "paper_bgcolor": "white",
          "plot_bgcolor": "#E5ECF6",
          "polar": {
           "angularaxis": {
            "gridcolor": "white",
            "linecolor": "white",
            "ticks": ""
           },
           "bgcolor": "#E5ECF6",
           "radialaxis": {
            "gridcolor": "white",
            "linecolor": "white",
            "ticks": ""
           }
          },
          "scene": {
           "xaxis": {
            "backgroundcolor": "#E5ECF6",
            "gridcolor": "white",
            "gridwidth": 2,
            "linecolor": "white",
            "showbackground": true,
            "ticks": "",
            "zerolinecolor": "white"
           },
           "yaxis": {
            "backgroundcolor": "#E5ECF6",
            "gridcolor": "white",
            "gridwidth": 2,
            "linecolor": "white",
            "showbackground": true,
            "ticks": "",
            "zerolinecolor": "white"
           },
           "zaxis": {
            "backgroundcolor": "#E5ECF6",
            "gridcolor": "white",
            "gridwidth": 2,
            "linecolor": "white",
            "showbackground": true,
            "ticks": "",
            "zerolinecolor": "white"
           }
          },
          "shapedefaults": {
           "line": {
            "color": "#2a3f5f"
           }
          },
          "ternary": {
           "aaxis": {
            "gridcolor": "white",
            "linecolor": "white",
            "ticks": ""
           },
           "baxis": {
            "gridcolor": "white",
            "linecolor": "white",
            "ticks": ""
           },
           "bgcolor": "#E5ECF6",
           "caxis": {
            "gridcolor": "white",
            "linecolor": "white",
            "ticks": ""
           }
          },
          "title": {
           "x": 0.05
          },
          "xaxis": {
           "automargin": true,
           "gridcolor": "white",
           "linecolor": "white",
           "ticks": "",
           "title": {
            "standoff": 15
           },
           "zerolinecolor": "white",
           "zerolinewidth": 2
          },
          "yaxis": {
           "automargin": true,
           "gridcolor": "white",
           "linecolor": "white",
           "ticks": "",
           "title": {
            "standoff": 15
           },
           "zerolinecolor": "white",
           "zerolinewidth": 2
          }
         }
        }
       }
      },
      "text/html": [
       "<div>                            <div id=\"f0fce3b0-6713-4f0d-a92e-6c25de2f6f36\" class=\"plotly-graph-div\" style=\"height:525px; width:100%;\"></div>            <script type=\"text/javascript\">                require([\"plotly\"], function(Plotly) {                    window.PLOTLYENV=window.PLOTLYENV || {};                                    if (document.getElementById(\"f0fce3b0-6713-4f0d-a92e-6c25de2f6f36\")) {                    Plotly.newPlot(                        \"f0fce3b0-6713-4f0d-a92e-6c25de2f6f36\",                        [{\"domain\":{\"x\":[0.0,0.45],\"y\":[0.575,1.0]},\"labels\":[\"\\ub304\\uc2a4\",\"\\ubc1c\\ub77c\\ub4dc\",\"\\ub7a9/\\ud799\\ud569\",\"\\ubc1c\\ub77c\\ub4dc, \\uad6d\\ub0b4\\ub4dc\\ub77c\\ub9c8\",\"R&B/Soul\",\"POP\",\"\\ub85d/\\uba54\\ud0c8\",\"\\uc778\\ub514\\uc74c\\uc545, \\ub85d/\\uba54\\ud0c8\",\"\\ub7a9/\\ud799\\ud569, \\uc778\\ub514\\uc74c\\uc545\",\"\\ubc1c\\ub77c\\ub4dc, \\uc778\\ub514\\uc74c\\uc545\",\"\\uc131\\uc778\\uac00\\uc694\",\"\\uc778\\ub514\\uc74c\\uc545, \\ud3ec\\ud06c/\\ube14\\ub8e8\\uc2a4\",\"\\ud3ec\\ud06c/\\ube14\\ub8e8\\uc2a4\"],\"name\":\"\\ubd04\\uc5d0 \\ub300\\ud55c \\uc120\\ud638\\ub418\\ub294 \\uc7a5\\ub974\",\"type\":\"pie\",\"values\":[143,91,89,74,37,34,20,14,14,10,4,4,2]},{\"domain\":{\"x\":[0.55,1.0],\"y\":[0.575,1.0]},\"labels\":[\"\\ub304\\uc2a4\",\"\\ubc1c\\ub77c\\ub4dc\",\"\\ub7a9/\\ud799\\ud569\",\"POP\",\"R&B/Soul\",\"\\ubc1c\\ub77c\\ub4dc, \\uc778\\ub514\\uc74c\\uc545\",\"\\ub85d/\\uba54\\ud0c8, \\uad6d\\ub0b4\\ub4dc\\ub77c\\ub9c8\",\"R&B/Soul, \\uc778\\ub514\\uc74c\\uc545\",\"\\uc778\\ub514\\uc74c\\uc545, \\uc77c\\ub809\\ud2b8\\ub85c\\ub2c8\\uce74\",\"\\ubc1c\\ub77c\\ub4dc, \\uad6d\\ub0b4\\ub4dc\\ub77c\\ub9c8\",\"\\uc778\\ub514\\uc74c\\uc545, \\ud3ec\\ud06c/\\ube14\\ub8e8\\uc2a4\",\"\\ub7a9/\\ud799\\ud569, \\uc778\\ub514\\uc74c\\uc545\"],\"name\":\"\\uc5ec\\ub984\\uc5d0 \\ub300\\ud55c \\uc120\\ud638\\ub418\\ub294 \\uc7a5\\ub974\",\"type\":\"pie\",\"values\":[183,71,61,42,39,30,18,16,12,9,4,1]},{\"domain\":{\"x\":[0.0,0.45],\"y\":[0.0,0.425]},\"labels\":[\"\\ubc1c\\ub77c\\ub4dc\",\"\\ub7a9/\\ud799\\ud569\",\"\\ub304\\uc2a4\",\"POP\",\"R&B/Soul\",\"\\ub85d/\\uba54\\ud0c8\",\"\\ubc1c\\ub77c\\ub4dc, \\uad6d\\ub0b4\\ub4dc\\ub77c\\ub9c8\",\"\\uc778\\ub514\\uc74c\\uc545, \\ud3ec\\ud06c/\\ube14\\ub8e8\\uc2a4\",\"\\ubc1c\\ub77c\\ub4dc, \\uc778\\ub514\\uc74c\\uc545\",\"\\uc778\\ub514\\uc74c\\uc545, \\ub85d/\\uba54\\ud0c8\",\"POP, \\uc560\\ub2c8\\uba54\\uc774\\uc158/\\uc6f9\\ud230, \\ud0a4\\uc988, \\ub9cc\\ud654\"],\"name\":\"\\uac00\\uc744\\uc5d0 \\ub300\\ud55c \\uc120\\ud638\\ub418\\ub294 \\uc7a5\\ub974\",\"type\":\"pie\",\"values\":[290,100,75,48,44,24,22,19,16,13,2]},{\"domain\":{\"x\":[0.55,1.0],\"y\":[0.0,0.425]},\"hoverinfo\":\"label+percent+name\",\"labels\":[\"\\ub7a9/\\ud799\\ud569\",\"\\ubc1c\\ub77c\\ub4dc\",\"\\ub304\\uc2a4\",\"\\ubc1c\\ub77c\\ub4dc, \\uad6d\\ub0b4\\ub4dc\\ub77c\\ub9c8\",\"R&B/Soul\",\"POP\",\"\\ub85d/\\uba54\\ud0c8, \\uad6d\\ub0b4\\ub4dc\\ub77c\\ub9c8\",\"\\uc778\\ub514\\uc74c\\uc545, \\ud3ec\\ud06c/\\ube14\\ub8e8\\uc2a4\",\"\\ub7a9/\\ud799\\ud569, \\uc778\\ub514\\uc74c\\uc545\",\"R&B/Soul, \\uc778\\ub514\\uc74c\\uc545\",\"\\ub85d/\\uba54\\ud0c8\"],\"name\":\"\\uaca8\\uc6b8\\uc5d0 \\ub300\\ud55c \\uc120\\ud638\\ub418\\ub294 \\uc7a5\\ub974\",\"type\":\"pie\",\"values\":[108,105,80,40,38,20,15,8,6,3,2]}],                        {\"template\":{\"data\":{\"bar\":[{\"error_x\":{\"color\":\"#2a3f5f\"},\"error_y\":{\"color\":\"#2a3f5f\"},\"marker\":{\"line\":{\"color\":\"#E5ECF6\",\"width\":0.5},\"pattern\":{\"fillmode\":\"overlay\",\"size\":10,\"solidity\":0.2}},\"type\":\"bar\"}],\"barpolar\":[{\"marker\":{\"line\":{\"color\":\"#E5ECF6\",\"width\":0.5},\"pattern\":{\"fillmode\":\"overlay\",\"size\":10,\"solidity\":0.2}},\"type\":\"barpolar\"}],\"carpet\":[{\"aaxis\":{\"endlinecolor\":\"#2a3f5f\",\"gridcolor\":\"white\",\"linecolor\":\"white\",\"minorgridcolor\":\"white\",\"startlinecolor\":\"#2a3f5f\"},\"baxis\":{\"endlinecolor\":\"#2a3f5f\",\"gridcolor\":\"white\",\"linecolor\":\"white\",\"minorgridcolor\":\"white\",\"startlinecolor\":\"#2a3f5f\"},\"type\":\"carpet\"}],\"choropleth\":[{\"colorbar\":{\"outlinewidth\":0,\"ticks\":\"\"},\"type\":\"choropleth\"}],\"contour\":[{\"colorbar\":{\"outlinewidth\":0,\"ticks\":\"\"},\"colorscale\":[[0.0,\"#0d0887\"],[0.1111111111111111,\"#46039f\"],[0.2222222222222222,\"#7201a8\"],[0.3333333333333333,\"#9c179e\"],[0.4444444444444444,\"#bd3786\"],[0.5555555555555556,\"#d8576b\"],[0.6666666666666666,\"#ed7953\"],[0.7777777777777778,\"#fb9f3a\"],[0.8888888888888888,\"#fdca26\"],[1.0,\"#f0f921\"]],\"type\":\"contour\"}],\"contourcarpet\":[{\"colorbar\":{\"outlinewidth\":0,\"ticks\":\"\"},\"type\":\"contourcarpet\"}],\"heatmap\":[{\"colorbar\":{\"outlinewidth\":0,\"ticks\":\"\"},\"colorscale\":[[0.0,\"#0d0887\"],[0.1111111111111111,\"#46039f\"],[0.2222222222222222,\"#7201a8\"],[0.3333333333333333,\"#9c179e\"],[0.4444444444444444,\"#bd3786\"],[0.5555555555555556,\"#d8576b\"],[0.6666666666666666,\"#ed7953\"],[0.7777777777777778,\"#fb9f3a\"],[0.8888888888888888,\"#fdca26\"],[1.0,\"#f0f921\"]],\"type\":\"heatmap\"}],\"heatmapgl\":[{\"colorbar\":{\"outlinewidth\":0,\"ticks\":\"\"},\"colorscale\":[[0.0,\"#0d0887\"],[0.1111111111111111,\"#46039f\"],[0.2222222222222222,\"#7201a8\"],[0.3333333333333333,\"#9c179e\"],[0.4444444444444444,\"#bd3786\"],[0.5555555555555556,\"#d8576b\"],[0.6666666666666666,\"#ed7953\"],[0.7777777777777778,\"#fb9f3a\"],[0.8888888888888888,\"#fdca26\"],[1.0,\"#f0f921\"]],\"type\":\"heatmapgl\"}],\"histogram\":[{\"marker\":{\"pattern\":{\"fillmode\":\"overlay\",\"size\":10,\"solidity\":0.2}},\"type\":\"histogram\"}],\"histogram2d\":[{\"colorbar\":{\"outlinewidth\":0,\"ticks\":\"\"},\"colorscale\":[[0.0,\"#0d0887\"],[0.1111111111111111,\"#46039f\"],[0.2222222222222222,\"#7201a8\"],[0.3333333333333333,\"#9c179e\"],[0.4444444444444444,\"#bd3786\"],[0.5555555555555556,\"#d8576b\"],[0.6666666666666666,\"#ed7953\"],[0.7777777777777778,\"#fb9f3a\"],[0.8888888888888888,\"#fdca26\"],[1.0,\"#f0f921\"]],\"type\":\"histogram2d\"}],\"histogram2dcontour\":[{\"colorbar\":{\"outlinewidth\":0,\"ticks\":\"\"},\"colorscale\":[[0.0,\"#0d0887\"],[0.1111111111111111,\"#46039f\"],[0.2222222222222222,\"#7201a8\"],[0.3333333333333333,\"#9c179e\"],[0.4444444444444444,\"#bd3786\"],[0.5555555555555556,\"#d8576b\"],[0.6666666666666666,\"#ed7953\"],[0.7777777777777778,\"#fb9f3a\"],[0.8888888888888888,\"#fdca26\"],[1.0,\"#f0f921\"]],\"type\":\"histogram2dcontour\"}],\"mesh3d\":[{\"colorbar\":{\"outlinewidth\":0,\"ticks\":\"\"},\"type\":\"mesh3d\"}],\"parcoords\":[{\"line\":{\"colorbar\":{\"outlinewidth\":0,\"ticks\":\"\"}},\"type\":\"parcoords\"}],\"pie\":[{\"automargin\":true,\"type\":\"pie\"}],\"scatter\":[{\"marker\":{\"colorbar\":{\"outlinewidth\":0,\"ticks\":\"\"}},\"type\":\"scatter\"}],\"scatter3d\":[{\"line\":{\"colorbar\":{\"outlinewidth\":0,\"ticks\":\"\"}},\"marker\":{\"colorbar\":{\"outlinewidth\":0,\"ticks\":\"\"}},\"type\":\"scatter3d\"}],\"scattercarpet\":[{\"marker\":{\"colorbar\":{\"outlinewidth\":0,\"ticks\":\"\"}},\"type\":\"scattercarpet\"}],\"scattergeo\":[{\"marker\":{\"colorbar\":{\"outlinewidth\":0,\"ticks\":\"\"}},\"type\":\"scattergeo\"}],\"scattergl\":[{\"marker\":{\"colorbar\":{\"outlinewidth\":0,\"ticks\":\"\"}},\"type\":\"scattergl\"}],\"scattermapbox\":[{\"marker\":{\"colorbar\":{\"outlinewidth\":0,\"ticks\":\"\"}},\"type\":\"scattermapbox\"}],\"scatterpolar\":[{\"marker\":{\"colorbar\":{\"outlinewidth\":0,\"ticks\":\"\"}},\"type\":\"scatterpolar\"}],\"scatterpolargl\":[{\"marker\":{\"colorbar\":{\"outlinewidth\":0,\"ticks\":\"\"}},\"type\":\"scatterpolargl\"}],\"scatterternary\":[{\"marker\":{\"colorbar\":{\"outlinewidth\":0,\"ticks\":\"\"}},\"type\":\"scatterternary\"}],\"surface\":[{\"colorbar\":{\"outlinewidth\":0,\"ticks\":\"\"},\"colorscale\":[[0.0,\"#0d0887\"],[0.1111111111111111,\"#46039f\"],[0.2222222222222222,\"#7201a8\"],[0.3333333333333333,\"#9c179e\"],[0.4444444444444444,\"#bd3786\"],[0.5555555555555556,\"#d8576b\"],[0.6666666666666666,\"#ed7953\"],[0.7777777777777778,\"#fb9f3a\"],[0.8888888888888888,\"#fdca26\"],[1.0,\"#f0f921\"]],\"type\":\"surface\"}],\"table\":[{\"cells\":{\"fill\":{\"color\":\"#EBF0F8\"},\"line\":{\"color\":\"white\"}},\"header\":{\"fill\":{\"color\":\"#C8D4E3\"},\"line\":{\"color\":\"white\"}},\"type\":\"table\"}]},\"layout\":{\"annotationdefaults\":{\"arrowcolor\":\"#2a3f5f\",\"arrowhead\":0,\"arrowwidth\":1},\"autotypenumbers\":\"strict\",\"coloraxis\":{\"colorbar\":{\"outlinewidth\":0,\"ticks\":\"\"}},\"colorscale\":{\"diverging\":[[0,\"#8e0152\"],[0.1,\"#c51b7d\"],[0.2,\"#de77ae\"],[0.3,\"#f1b6da\"],[0.4,\"#fde0ef\"],[0.5,\"#f7f7f7\"],[0.6,\"#e6f5d0\"],[0.7,\"#b8e186\"],[0.8,\"#7fbc41\"],[0.9,\"#4d9221\"],[1,\"#276419\"]],\"sequential\":[[0.0,\"#0d0887\"],[0.1111111111111111,\"#46039f\"],[0.2222222222222222,\"#7201a8\"],[0.3333333333333333,\"#9c179e\"],[0.4444444444444444,\"#bd3786\"],[0.5555555555555556,\"#d8576b\"],[0.6666666666666666,\"#ed7953\"],[0.7777777777777778,\"#fb9f3a\"],[0.8888888888888888,\"#fdca26\"],[1.0,\"#f0f921\"]],\"sequentialminus\":[[0.0,\"#0d0887\"],[0.1111111111111111,\"#46039f\"],[0.2222222222222222,\"#7201a8\"],[0.3333333333333333,\"#9c179e\"],[0.4444444444444444,\"#bd3786\"],[0.5555555555555556,\"#d8576b\"],[0.6666666666666666,\"#ed7953\"],[0.7777777777777778,\"#fb9f3a\"],[0.8888888888888888,\"#fdca26\"],[1.0,\"#f0f921\"]]},\"colorway\":[\"#636efa\",\"#EF553B\",\"#00cc96\",\"#ab63fa\",\"#FFA15A\",\"#19d3f3\",\"#FF6692\",\"#B6E880\",\"#FF97FF\",\"#FECB52\"],\"font\":{\"color\":\"#2a3f5f\"},\"geo\":{\"bgcolor\":\"white\",\"lakecolor\":\"white\",\"landcolor\":\"#E5ECF6\",\"showlakes\":true,\"showland\":true,\"subunitcolor\":\"white\"},\"hoverlabel\":{\"align\":\"left\"},\"hovermode\":\"closest\",\"mapbox\":{\"style\":\"light\"},\"paper_bgcolor\":\"white\",\"plot_bgcolor\":\"#E5ECF6\",\"polar\":{\"angularaxis\":{\"gridcolor\":\"white\",\"linecolor\":\"white\",\"ticks\":\"\"},\"bgcolor\":\"#E5ECF6\",\"radialaxis\":{\"gridcolor\":\"white\",\"linecolor\":\"white\",\"ticks\":\"\"}},\"scene\":{\"xaxis\":{\"backgroundcolor\":\"#E5ECF6\",\"gridcolor\":\"white\",\"gridwidth\":2,\"linecolor\":\"white\",\"showbackground\":true,\"ticks\":\"\",\"zerolinecolor\":\"white\"},\"yaxis\":{\"backgroundcolor\":\"#E5ECF6\",\"gridcolor\":\"white\",\"gridwidth\":2,\"linecolor\":\"white\",\"showbackground\":true,\"ticks\":\"\",\"zerolinecolor\":\"white\"},\"zaxis\":{\"backgroundcolor\":\"#E5ECF6\",\"gridcolor\":\"white\",\"gridwidth\":2,\"linecolor\":\"white\",\"showbackground\":true,\"ticks\":\"\",\"zerolinecolor\":\"white\"}},\"shapedefaults\":{\"line\":{\"color\":\"#2a3f5f\"}},\"ternary\":{\"aaxis\":{\"gridcolor\":\"white\",\"linecolor\":\"white\",\"ticks\":\"\"},\"baxis\":{\"gridcolor\":\"white\",\"linecolor\":\"white\",\"ticks\":\"\"},\"bgcolor\":\"#E5ECF6\",\"caxis\":{\"gridcolor\":\"white\",\"linecolor\":\"white\",\"ticks\":\"\"}},\"title\":{\"x\":0.05},\"xaxis\":{\"automargin\":true,\"gridcolor\":\"white\",\"linecolor\":\"white\",\"ticks\":\"\",\"title\":{\"standoff\":15},\"zerolinecolor\":\"white\",\"zerolinewidth\":2},\"yaxis\":{\"automargin\":true,\"gridcolor\":\"white\",\"linecolor\":\"white\",\"ticks\":\"\",\"title\":{\"standoff\":15},\"zerolinecolor\":\"white\",\"zerolinewidth\":2}}}},                        {\"responsive\": true}                    ).then(function(){\n",
       "                            \n",
       "var gd = document.getElementById('f0fce3b0-6713-4f0d-a92e-6c25de2f6f36');\n",
       "var x = new MutationObserver(function (mutations, observer) {{\n",
       "        var display = window.getComputedStyle(gd).display;\n",
       "        if (!display || display === 'none') {{\n",
       "            console.log([gd, 'removed!']);\n",
       "            Plotly.purge(gd);\n",
       "            observer.disconnect();\n",
       "        }}\n",
       "}});\n",
       "\n",
       "// Listen for the removal of the full notebook cells\n",
       "var notebookContainer = gd.closest('#notebook-container');\n",
       "if (notebookContainer) {{\n",
       "    x.observe(notebookContainer, {childList: true});\n",
       "}}\n",
       "\n",
       "// Listen for the clearing of the current output cell\n",
       "var outputEl = gd.closest('.output');\n",
       "if (outputEl) {{\n",
       "    x.observe(outputEl, {childList: true});\n",
       "}}\n",
       "\n",
       "                        })                };                });            </script>        </div>"
      ]
     },
     "metadata": {},
     "output_type": "display_data"
    }
   ],
   "source": [
    "import seaborn as sns\n",
    "import matplotlib.pyplot as plt\n",
    "import numpy as np\n",
    "import plotly\n",
    "import cufflinks as cf\n",
    "from plotly.offline import download_plotlyjs,init_notebook_mode,plot,iplot\n",
    "import plotly.express as px\n",
    "import plotly.graph_objects as go\n",
    "from plotly.subplots import make_subplots\n",
    "# Create subplots: use 'domain' type for Pie subplot\n",
    "init_notebook_mode(connected=True)\n",
    "cf.go_offline()\n",
    "\n",
    "fig = make_subplots(rows=2, cols=2, specs=[[{'type':'domain'}, {'type':'domain'}],\n",
    "                                            [{'type':'domain'},{'type':'domain'}]])\n",
    "\n",
    "# 봄에 대한 선호되는 장르 \n",
    "spring_df = all_df.loc[all_df['Season'] == 1]['장르'].value_counts()\n",
    "fig.add_trace(go.Pie(labels=spring_df.index, values=spring_df.values, name=\"봄에 대한 선호되는 장르\"),1,1)\n",
    "\n",
    "# 여름에 대한 선호되는 장르 \n",
    "summer_df = all_df.loc[all_df['Season'] == 2]['장르'].value_counts()\n",
    "fig.add_trace(go.Pie(labels=summer_df.index, values=summer_df.values, name=\"여름에 대한 선호되는 장르\"),1,2)\n",
    "\n",
    "# 가을에 대한 선호되는 장르 \n",
    "autumn_df = all_df.loc[all_df['Season'] == 3]['장르'].value_counts()\n",
    "fig.add_trace(go.Pie(labels=autumn_df.index, values=autumn_df.values, name=\"가을에 대한 선호되는 장르\"),2,1)\n",
    "\n",
    "# 겨울에 대한 선호되는 장르 \n",
    "winter_df = all_df.loc[all_df['Season'] == 4]['장르'].value_counts()\n",
    "fig.add_trace(go.Pie(labels=winter_df.index, values=winter_df.values, name=\"겨울에 대한 선호되는 장르\"),2,2)\n",
    "\n",
    "\n",
    "fig.update_traces(hoverinfo=\"label+percent+name\", row=2, col=2)\n",
    "fig.show()"
   ]
  },
  {
   "cell_type": "code",
   "execution_count": 12,
   "id": "cb9eee02",
   "metadata": {},
   "outputs": [
    {
     "data": {
      "text/plain": [
       "댄스              230\n",
       "발라드             184\n",
       "랩/힙합            178\n",
       "R&B/Soul         50\n",
       "POP              44\n",
       "발라드, 국내드라마       41\n",
       "인디음악, 록/메탈       14\n",
       "발라드, 인디음악        12\n",
       "인디음악, 일렉트로니카     12\n",
       "인디음악, 포크/블루스     12\n",
       "Name: 장르, dtype: int64"
      ]
     },
     "execution_count": 12,
     "metadata": {},
     "output_type": "execute_result"
    }
   ],
   "source": [
    "all_df.loc[all_df['Year'] == '2018']['장르'].value_counts()"
   ]
  },
  {
   "cell_type": "code",
   "execution_count": 159,
   "id": "9f2444e6",
   "metadata": {},
   "outputs": [
    {
     "data": {
      "text/plain": [
       "'https://plotly.com/~auddns45/1/'"
      ]
     },
     "execution_count": 159,
     "metadata": {},
     "output_type": "execute_result"
    }
   ],
   "source": [
    "import chart_studio\n",
    "username = 'auddns45' # 유저네임\n",
    "api_key = 'ydHjA1YuhfIb52u2h6qv' # api key - go to profile > settings > regenerate key\n",
    "chart_studio.tools.set_credentials_file(username=username, api_key=api_key)\n",
    "import chart_studio.plotly as py\n",
    "py.plot(fig, filename = 'test', auto_open=True)"
   ]
  }
 ],
 "metadata": {
  "kernelspec": {
   "display_name": "Python 3",
   "language": "python",
   "name": "python3"
  },
  "language_info": {
   "codemirror_mode": {
    "name": "ipython",
    "version": 3
   },
   "file_extension": ".py",
   "mimetype": "text/x-python",
   "name": "python",
   "nbconvert_exporter": "python",
   "pygments_lexer": "ipython3",
   "version": "3.7.10"
  }
 },
 "nbformat": 4,
 "nbformat_minor": 5
}
